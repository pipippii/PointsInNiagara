{
  "nbformat": 4,
  "nbformat_minor": 0,
  "metadata": {
    "colab": {
      "provenance": []
    },
    "kernelspec": {
      "name": "python3",
      "display_name": "Python 3"
    },
    "language_info": {
      "name": "python"
    }
  },
  "cells": [
    {
      "cell_type": "code",
      "execution_count": 3,
      "metadata": {
        "colab": {
          "base_uri": "https://localhost:8080/"
        },
        "id": "swg1G_rca5cV",
        "outputId": "03252bd2-5a1f-44dc-a196-b1a5f88b8cbb"
      },
      "outputs": [
        {
          "output_type": "stream",
          "name": "stdout",
          "text": [
            "Время выполнения программы: 68.771165 секунд\n"
          ]
        }
      ],
      "source": [
        "import numpy as np\n",
        "import time\n",
        "\n",
        "# Чтение точек из файла\n",
        "def read_points(file_name):\n",
        "    data = np.loadtxt(file_name, dtype={'names': ('class_label', 'x', 'y', 'z'),\n",
        "                                        'formats': ('U10', 'f4', 'f4', 'f4')})\n",
        "    class_labels = data['class_label']\n",
        "    coordinates = np.column_stack((data['x'], data['y'], data['z']))\n",
        "    return class_labels, coordinates\n",
        "\n",
        "# Проверка попадания точек в песочные часы\n",
        "def points_in_hourglass(coords, apex, direction, cos_alpha, h):\n",
        "    vec_to_points = coords - apex\n",
        "    dist_to_apex = np.linalg.norm(vec_to_points, axis=1)\n",
        "\n",
        "    dot_products = np.einsum('ij,j->i', vec_to_points, direction) / dist_to_apex\n",
        "\n",
        "    in_cone = (np.abs(dot_products) >= cos_alpha) & (dist_to_apex <= h)\n",
        "    return in_cone\n",
        "\n",
        "# Генерация вращений направлений\n",
        "def rotate_directions(initial_direction, angles_deg):\n",
        "    angles_rad = np.radians(angles_deg, dtype=np.float32)\n",
        "    cos_angles = np.cos(angles_rad)\n",
        "    sin_angles = np.sin(angles_rad)\n",
        "\n",
        "    x, y, z = initial_direction\n",
        "    rotated = np.column_stack((\n",
        "        x * cos_angles - y * sin_angles,\n",
        "        x * sin_angles + y * cos_angles,\n",
        "        np.full_like(cos_angles, z, dtype=np.float32)\n",
        "    ))\n",
        "    return rotated\n",
        "\n",
        "# Фильтрация точек в песочных часах\n",
        "def filter_points_in_hourglass(file_name, apex, initial_direction, alpha=90, h=1.0, target_count=10):\n",
        "    class_labels, coords = read_points(file_name)\n",
        "    cos_alpha = np.cos(np.radians(alpha), dtype=np.float32)\n",
        "    selected_points = []\n",
        "\n",
        "    angles = np.linspace(0, 360, num=360, endpoint=False, dtype=np.float32)\n",
        "    rotated_directions = rotate_directions(initial_direction, angles)\n",
        "\n",
        "    for direction in rotated_directions:\n",
        "        in_hourglass = points_in_hourglass(coords, apex, direction, cos_alpha, h)\n",
        "        indices = np.flatnonzero(in_hourglass)\n",
        "\n",
        "        selected_points.extend([(class_labels[i], coords[i]) for i in indices])\n",
        "\n",
        "        if len(selected_points) >= target_count:\n",
        "            return selected_points[:target_count]\n",
        "\n",
        "    return selected_points[:target_count]\n",
        "\n",
        "if __name__ == \"__main__\":\n",
        "    apex = np.array([0, 0, 0], dtype=np.float32)\n",
        "    initial_direction = np.array([0, 0, 1], dtype=np.float32)\n",
        "\n",
        "    start_time = time.time()\n",
        "    selected_points = filter_points_in_hourglass('Niagara.xyz', apex, initial_direction)\n",
        "    end_time = time.time()\n",
        "\n",
        "    print(f\"Время выполнения программы: {end_time - start_time:.6f} секунд\")\n"
      ]
    }
  ]
}